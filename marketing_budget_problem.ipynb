{
 "cells": [
  {
   "cell_type": "code",
   "execution_count": 1,
   "id": "4fde85b6",
   "metadata": {},
   "outputs": [],
   "source": [
    "from pyomo.environ import *"
   ]
  },
  {
   "cell_type": "code",
   "execution_count": 5,
   "id": "37e1ec03",
   "metadata": {},
   "outputs": [],
   "source": [
    "## MODEL DEFINITION\n",
    "# create model where we will add objectives/constraints\n",
    "model = ConcreteModel()\n",
    "\n",
    "# define variables for each marketing channel\n",
    "model.x1 = Var(domain=NonNegativeReals)\n",
    "model.x2 = Var(domain=NonNegativeReals)\n",
    "model.x3 = Var(domain=NonNegativeReals)\n",
    "\n",
    "# define objective - to maximize ROI\n",
    "model.obj = Objective(expr = 0.25*model.x1 + 0.18*model.x2 + 0.1*model.x3, sense=maximize)\n",
    "\n",
    "# define constraints\n",
    "model.cons1 = Constraint(expr = model.x1 + model.x2 + model.x3 <= 500000)  # \"The maximum budget is $500,000\"\n",
    "model.cons2 = Constraint(expr = model.x1 <= 0.55 * (model.x1 + model.x2 + model.x3))  # \"TV budget must be no more than 55% of the total\"\n",
    "model.cons3 = Constraint(expr = model.x1 >= 0.45 * (model.x1 + model.x2 + model.x3))  #\"TV budget must be at least 45% of the total\"\n",
    "model.cons4 = Constraint(expr = model.x2 >= 50000)  # \"Print budget must be at least $50,000\"\n",
    "model.cons5 = Constraint(expr = model.x3 >= 25000)  # \"Radio budget must be at least $25,000\"\n",
    "model.cons6 = Constraint(expr = 29.41*model.x1 + 40.0*model.x2 + 62.50*model.x3 >= 15000000)  # \"The campaign must deliver at least 15M impressions\""
   ]
  },
  {
   "cell_type": "code",
   "execution_count": 6,
   "id": "3059b61d",
   "metadata": {},
   "outputs": [
    {
     "name": "stdout",
     "output_type": "stream",
     "text": [
      "\n",
      "Problem: \n",
      "- Name: unknown\n",
      "  Lower bound: 107250.0\n",
      "  Upper bound: 107250.0\n",
      "  Number of objectives: 1\n",
      "  Number of constraints: 6\n",
      "  Number of variables: 3\n",
      "  Number of nonzeros: 14\n",
      "  Sense: maximize\n",
      "Solver: \n",
      "- Status: ok\n",
      "  Termination condition: optimal\n",
      "  Statistics: \n",
      "    Branch and bound: \n",
      "      Number of bounded subproblems: 0\n",
      "      Number of created subproblems: 0\n",
      "  Error rc: 0\n",
      "  Time: 0.1396782398223877\n",
      "Solution: \n",
      "- number of solutions: 0\n",
      "  number of solutions displayed: 0\n",
      "\n"
     ]
    }
   ],
   "source": [
    "## SOLVING THE LP\n",
    "# Now that we have defined objectives.constraints, lets solve it\n",
    "solver = SolverFactory('glpk')\n",
    "results = solver.solve(model)\n",
    "print(results)"
   ]
  },
  {
   "cell_type": "code",
   "execution_count": 9,
   "id": "2741e886",
   "metadata": {},
   "outputs": [
    {
     "name": "stdout",
     "output_type": "stream",
     "text": [
      "Optimal TV budget: 275000.0\n",
      "Optimal Print budget: 200000.0\n",
      "Optimal Radio budget: 25000.0\n",
      "\n",
      "Total Cost: 500000.0\n",
      "Total Impressions: 17650250.0\n",
      "\n",
      "Optimal ROI: 107250.0\n"
     ]
    }
   ],
   "source": [
    "# print optimal values from our solution\n",
    "print(f'Optimal TV budget: {value(model.x1)}')\n",
    "print(f'Optimal Print budget: {value(model.x2)}')\n",
    "print(f'Optimal Radio budget: {value(model.x3)}')\n",
    "\n",
    "print(f'\\nTotal Cost: {value(model.x1)+value(model.x2)+value(model.x3)}')\n",
    "print(f'Total Impressions: {29.41*value(model.x1) + 40*value(model.x2) + 62.5*value(model.x3)}')\n",
    "\n",
    "print(f'\\nOptimal ROI: {value(model.obj)}')\n"
   ]
  }
 ],
 "metadata": {
  "kernelspec": {
   "display_name": "lp_solve",
   "language": "python",
   "name": "python3"
  },
  "language_info": {
   "codemirror_mode": {
    "name": "ipython",
    "version": 3
   },
   "file_extension": ".py",
   "mimetype": "text/x-python",
   "name": "python",
   "nbconvert_exporter": "python",
   "pygments_lexer": "ipython3",
   "version": "3.9.23"
  }
 },
 "nbformat": 4,
 "nbformat_minor": 5
}
